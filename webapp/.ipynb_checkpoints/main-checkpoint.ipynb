{
 "cells": [
  {
   "cell_type": "code",
   "execution_count": 182,
   "id": "d9d8699c",
   "metadata": {},
   "outputs": [
    {
     "name": "stdout",
     "output_type": "stream",
     "text": [
      "Overwriting mask_detector.py\n"
     ]
    }
   ],
   "source": [
    "%%writefile mask_detector.py\n",
    "\n",
    "import urllib.request\n",
    "from PIL import Image\n",
    "import numpy as np\n",
    "import json\n",
    "from flask import request\n",
    "\n",
    "def detect_masks(): \n",
    "    \n",
    "    img = request.files['image']\n",
    "    img = Image.open(img) \n",
    "    img = img.resize((128, 128))\n",
    "    img = np.array(img) / 255.0\n",
    "    \n",
    "            \n",
    "    # Request data goes here\n",
    "    data = { \"data\": [img.tolist()]\n",
    "    }\n",
    "    \n",
    "    \n",
    "    body = str.encode(json.dumps(data))\n",
    "    \n",
    "    url = 'http://d8f4fd28-e984-4960-aa99-ed978b9a0fef.eastus.azurecontainer.io/score'\n",
    "    headers = {'Content-Type':'application/json'}\n",
    "\n",
    "    req = urllib.request.Request(url, body, headers)\n",
    "\n",
    "    try:    \n",
    "        response = urllib.request.urlopen(req)\n",
    "        result = response.read()\n",
    "        y_hat = json.loads(result)\n",
    "        prediction_classes = {0:' Correctly Masked Face', 1:'Incorrectly Masked Face', 2:'No Mask' }\n",
    "        predictions = np.argmax(y_hat ,axis=1)\n",
    "        return prediction_classes[predictions[0]]\n",
    "\n",
    "    except urllib.error.HTTPError as error:\n",
    "        return \"The request failed with status code: \" + str(error.code)\n"
   ]
  },
  {
   "cell_type": "code",
   "execution_count": 183,
   "id": "497a8595",
   "metadata": {},
   "outputs": [
    {
     "name": "stdout",
     "output_type": "stream",
     "text": [
      "Overwriting app.py\n"
     ]
    }
   ],
   "source": [
    "%%writefile app.py\n",
    "\n",
    "import os\n",
    "from mask_detector import detect_masks\n",
    "from flask import Flask, request, render_template, url_for\n",
    "\n",
    "# creates a Flask instance\n",
    "app = Flask(__name__)\n",
    "\n",
    "#connection between the URL / and a function that returns a response\n",
    "@app.route('/')\n",
    "def index():\n",
    "    return render_template(\"index.html\")\n",
    "\n",
    "@app.route('/detect', methods= ['POST', 'GET'])\n",
    "def detect():\n",
    "    if request.method == 'POST':\n",
    "        image = request.files['image']\n",
    "        \n",
    "        if not os.path.exists(os.path.join('static', 'images')):\n",
    "            os.mkdir(os.path.join('static', 'images'))\n",
    "        \n",
    "        image_path = os.path.join('static', 'images', image.filename)\n",
    "        image.save(image_path)\n",
    "        \n",
    "        response = detect_masks()        \n",
    "        return render_template('detection.html',predictions=response, image=url_for('static', filename=os.path.join('images', image.filename)))\n",
    "    \n",
    "\n",
    "if __name__ == \"__main__\":\n",
    "    app.run(debug=True)"
   ]
  },
  {
   "cell_type": "code",
   "execution_count": null,
   "id": "2c2dd8ca",
   "metadata": {},
   "outputs": [
    {
     "name": "stdout",
     "output_type": "stream",
     "text": [
      " * Serving Flask app \"app\" (lazy loading)\n",
      " * Environment: production\n",
      "\u001b[31m   WARNING: This is a development server. Do not use it in a production deployment.\u001b[0m\n",
      "\u001b[2m   Use a production WSGI server instead.\u001b[0m\n",
      " * Debug mode: on\n",
      " * Running on http://127.0.0.1:5000/ (Press CTRL+C to quit)\n",
      " * Restarting with watchdog (inotify)\n",
      " * Debugger is active!\n",
      " * Debugger PIN: 419-449-409\n",
      "127.0.0.1 - - [29/Dec/2021 01:21:57] \"GET / HTTP/1.1\" 200 -\n",
      "127.0.0.1 - - [29/Dec/2021 01:21:57] \"\u001b[33mGET /favicon.ico HTTP/1.1\u001b[0m\" 404 -\n"
     ]
    }
   ],
   "source": [
    "! python app.py"
   ]
  },
  {
   "cell_type": "code",
   "execution_count": 184,
   "id": "d31c96c0",
   "metadata": {},
   "outputs": [
    {
     "name": "stdout",
     "output_type": "stream",
     "text": [
      "Overwriting templates/index.html\n"
     ]
    }
   ],
   "source": [
    "%%writefile templates/index.html\n",
    "\n",
    "{% extends 'base.html' %}\n",
    "\n",
    "{% block head %}\n",
    "\n",
    "{% endblock %}\n",
    "\n",
    "{% block body %}\n",
    "\n",
    "\n",
    "<div>\n",
    "    <form action = \"/detect\" method = \"POST\" enctype = \"multipart/form-data\">\n",
    "         <input type = \"file\" name = \"image\" />\n",
    "         <input type = \"submit\"/>\n",
    "    </form>\n",
    "</div>\n",
    "\n",
    "{% endblock %}"
   ]
  },
  {
   "cell_type": "code",
   "execution_count": 185,
   "id": "6f852218",
   "metadata": {},
   "outputs": [
    {
     "name": "stdout",
     "output_type": "stream",
     "text": [
      "Overwriting templates/detection.html\n"
     ]
    }
   ],
   "source": [
    "%%writefile templates/detection.html\n",
    "\n",
    "{% extends 'base.html' %}\n",
    "\n",
    "{% block head %}\n",
    "\n",
    "{% endblock %}\n",
    "\n",
    "{% block body %}\n",
    "\n",
    "<img src={{image}} width=\"500\" height=\"500\"></img>\n",
    "<span><h4>Prediction:{{predictions}}</h4></span>\n",
    "\n",
    "{% endblock %}"
   ]
  },
  {
   "cell_type": "code",
   "execution_count": null,
   "id": "6fd5da19",
   "metadata": {},
   "outputs": [],
   "source": []
  }
 ],
 "metadata": {
  "kernelspec": {
   "display_name": "Python 3",
   "language": "python",
   "name": "python3"
  },
  "language_info": {
   "codemirror_mode": {
    "name": "ipython",
    "version": 3
   },
   "file_extension": ".py",
   "mimetype": "text/x-python",
   "name": "python",
   "nbconvert_exporter": "python",
   "pygments_lexer": "ipython3",
   "version": "3.7.6"
  }
 },
 "nbformat": 4,
 "nbformat_minor": 5
}
