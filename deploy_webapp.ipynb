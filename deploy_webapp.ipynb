{
 "cells": [
  {
   "cell_type": "markdown",
   "id": "9a646eca",
   "metadata": {},
   "source": [
    "### Create a webapp using Azure App Service"
   ]
  },
  {
   "cell_type": "markdown",
   "id": "d0e6faa0",
   "metadata": {},
   "source": [
    "* Sign in to Azure\n",
    "> <code>az login</code><br>\n",
    "* Create a virtual environment\n",
    "> <code>python3 -m venv .venv</code><br>\n",
    "  <code>source .venv/bin/activate</code><br>\n",
    "* Install dependencies\n",
    "> <code>pip install -r requirements.txt</code><br>\n",
    "* Run the development server\n",
    "> <code>flask run</code><br>\n",
    "* Set the default resource group and location for all commands\n",
    "> <code>az configure --defaults group=Mask-Detection</code><br>\n",
    "  <code>az configure --defaults location=centralindia</code><br>\n",
    "* Create an App Service Plan\n",
    "> <code>az appservice plan create --name app-service-plan --resource-group Mask-Detection --sku B1 --is-linux</code><br>\n",
    "* Create a webapp and deploy code from a local workspace to the app\n",
    "> <code>az webapp up --sku B1 --name mask-detector --plan app-service-plan</code><br>\n",
    "* Browse to the app\n",
    "> <a href = \"http://mask-detector.azurewebsites.net\">http://mask-detector.azurewebsites.net<a>"
   ]
  }
 ],
 "metadata": {
  "kernelspec": {
   "display_name": "Python 3",
   "language": "python",
   "name": "python3"
  },
  "language_info": {
   "codemirror_mode": {
    "name": "ipython",
    "version": 3
   },
   "file_extension": ".py",
   "mimetype": "text/x-python",
   "name": "python",
   "nbconvert_exporter": "python",
   "pygments_lexer": "ipython3",
   "version": "3.7.6"
  }
 },
 "nbformat": 4,
 "nbformat_minor": 5
}
